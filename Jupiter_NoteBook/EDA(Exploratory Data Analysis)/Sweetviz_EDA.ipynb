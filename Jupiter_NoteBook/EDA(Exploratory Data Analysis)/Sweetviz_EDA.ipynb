{
 "cells": [
  {
   "cell_type": "markdown",
   "id": "ae085d18-2411-41d0-950b-26aecd686320",
   "metadata": {},
   "source": [
    "# SweetViz EDA \n",
    "1. Sweetviz is another great tool for automated EDA (Exploratory Data Analysis) in Python. It generates a visual, interactive HTML report comparing datasets or analyzing a single one."
   ]
  },
  {
   "cell_type": "code",
   "execution_count": 3,
   "id": "9230f999-bed8-40f7-9243-f1fba9a9d7de",
   "metadata": {},
   "outputs": [
    {
     "name": "stdout",
     "output_type": "stream",
     "text": [
      "Collecting sweetviz\n",
      "  Downloading sweetviz-2.3.1-py3-none-any.whl.metadata (24 kB)\n",
      "Requirement already satisfied: pandas!=1.0.0,!=1.0.1,!=1.0.2,>=0.25.3 in c:\\users\\vikram\\anaconda3\\lib\\site-packages (from sweetviz) (2.2.2)\n",
      "Requirement already satisfied: numpy>=1.16.0 in c:\\users\\vikram\\anaconda3\\lib\\site-packages (from sweetviz) (1.26.4)\n",
      "Requirement already satisfied: matplotlib>=3.1.3 in c:\\users\\vikram\\anaconda3\\lib\\site-packages (from sweetviz) (3.9.2)\n",
      "Requirement already satisfied: tqdm>=4.43.0 in c:\\users\\vikram\\anaconda3\\lib\\site-packages (from sweetviz) (4.66.5)\n",
      "Requirement already satisfied: scipy>=1.3.2 in c:\\users\\vikram\\anaconda3\\lib\\site-packages (from sweetviz) (1.13.1)\n",
      "Requirement already satisfied: jinja2>=2.11.1 in c:\\users\\vikram\\anaconda3\\lib\\site-packages (from sweetviz) (3.1.4)\n",
      "Collecting importlib-resources>=1.2.0 (from sweetviz)\n",
      "  Downloading importlib_resources-6.5.2-py3-none-any.whl.metadata (3.9 kB)\n",
      "Requirement already satisfied: MarkupSafe>=2.0 in c:\\users\\vikram\\anaconda3\\lib\\site-packages (from jinja2>=2.11.1->sweetviz) (2.1.3)\n",
      "Requirement already satisfied: contourpy>=1.0.1 in c:\\users\\vikram\\anaconda3\\lib\\site-packages (from matplotlib>=3.1.3->sweetviz) (1.2.0)\n",
      "Requirement already satisfied: cycler>=0.10 in c:\\users\\vikram\\anaconda3\\lib\\site-packages (from matplotlib>=3.1.3->sweetviz) (0.11.0)\n",
      "Requirement already satisfied: fonttools>=4.22.0 in c:\\users\\vikram\\anaconda3\\lib\\site-packages (from matplotlib>=3.1.3->sweetviz) (4.51.0)\n",
      "Requirement already satisfied: kiwisolver>=1.3.1 in c:\\users\\vikram\\anaconda3\\lib\\site-packages (from matplotlib>=3.1.3->sweetviz) (1.4.4)\n",
      "Requirement already satisfied: packaging>=20.0 in c:\\users\\vikram\\anaconda3\\lib\\site-packages (from matplotlib>=3.1.3->sweetviz) (24.1)\n",
      "Requirement already satisfied: pillow>=8 in c:\\users\\vikram\\anaconda3\\lib\\site-packages (from matplotlib>=3.1.3->sweetviz) (10.4.0)\n",
      "Requirement already satisfied: pyparsing>=2.3.1 in c:\\users\\vikram\\anaconda3\\lib\\site-packages (from matplotlib>=3.1.3->sweetviz) (3.1.2)\n",
      "Requirement already satisfied: python-dateutil>=2.7 in c:\\users\\vikram\\anaconda3\\lib\\site-packages (from matplotlib>=3.1.3->sweetviz) (2.9.0.post0)\n",
      "Requirement already satisfied: pytz>=2020.1 in c:\\users\\vikram\\anaconda3\\lib\\site-packages (from pandas!=1.0.0,!=1.0.1,!=1.0.2,>=0.25.3->sweetviz) (2024.1)\n",
      "Requirement already satisfied: tzdata>=2022.7 in c:\\users\\vikram\\anaconda3\\lib\\site-packages (from pandas!=1.0.0,!=1.0.1,!=1.0.2,>=0.25.3->sweetviz) (2023.3)\n",
      "Requirement already satisfied: colorama in c:\\users\\vikram\\anaconda3\\lib\\site-packages (from tqdm>=4.43.0->sweetviz) (0.4.6)\n",
      "Requirement already satisfied: six>=1.5 in c:\\users\\vikram\\anaconda3\\lib\\site-packages (from python-dateutil>=2.7->matplotlib>=3.1.3->sweetviz) (1.16.0)\n",
      "Downloading sweetviz-2.3.1-py3-none-any.whl (15.1 MB)\n",
      "   ---------------------------------------- 0.0/15.1 MB ? eta -:--:--\n",
      "   ---------------------------------------- 0.0/15.1 MB ? eta -:--:--\n",
      "    --------------------------------------- 0.3/15.1 MB ? eta -:--:--\n",
      "    --------------------------------------- 0.3/15.1 MB ? eta -:--:--\n",
      "   - -------------------------------------- 0.5/15.1 MB 985.5 kB/s eta 0:00:15\n",
      "   -- ------------------------------------- 0.8/15.1 MB 1.0 MB/s eta 0:00:15\n",
      "   -- ------------------------------------- 1.0/15.1 MB 1.1 MB/s eta 0:00:14\n",
      "   --- ------------------------------------ 1.3/15.1 MB 1.1 MB/s eta 0:00:13\n",
      "   ---- ----------------------------------- 1.6/15.1 MB 1.2 MB/s eta 0:00:12\n",
      "   ----- ---------------------------------- 2.1/15.1 MB 1.3 MB/s eta 0:00:10\n",
      "   ------ --------------------------------- 2.6/15.1 MB 1.5 MB/s eta 0:00:09\n",
      "   -------- ------------------------------- 3.1/15.1 MB 1.6 MB/s eta 0:00:08\n",
      "   --------- ------------------------------ 3.7/15.1 MB 1.7 MB/s eta 0:00:07\n",
      "   ----------- ---------------------------- 4.5/15.1 MB 1.9 MB/s eta 0:00:06\n",
      "   ------------- -------------------------- 5.2/15.1 MB 2.0 MB/s eta 0:00:05\n",
      "   ---------------- ----------------------- 6.3/15.1 MB 2.2 MB/s eta 0:00:04\n",
      "   ------------------- -------------------- 7.3/15.1 MB 2.5 MB/s eta 0:00:04\n",
      "   ---------------------- ----------------- 8.7/15.1 MB 2.7 MB/s eta 0:00:03\n",
      "   ------------------------- -------------- 9.7/15.1 MB 2.8 MB/s eta 0:00:02\n",
      "   ----------------------------- ---------- 11.3/15.1 MB 3.1 MB/s eta 0:00:02\n",
      "   ---------------------------------- ----- 13.1/15.1 MB 3.4 MB/s eta 0:00:01\n",
      "   ---------------------------------------  14.9/15.1 MB 3.7 MB/s eta 0:00:01\n",
      "   ---------------------------------------- 15.1/15.1 MB 3.6 MB/s eta 0:00:00\n",
      "Downloading importlib_resources-6.5.2-py3-none-any.whl (37 kB)\n",
      "Installing collected packages: importlib-resources, sweetviz\n",
      "Successfully installed importlib-resources-6.5.2 sweetviz-2.3.1\n"
     ]
    }
   ],
   "source": [
    "!pip install sweetviz\n"
   ]
  },
  {
   "cell_type": "code",
   "execution_count": 7,
   "id": "0c96fcc2-0e0d-48a7-9455-89aef304db3e",
   "metadata": {},
   "outputs": [],
   "source": [
    "import sweetviz as sv\n",
    "import pandas as pd\n"
   ]
  },
  {
   "cell_type": "code",
   "execution_count": 15,
   "id": "3add8ff7-5b8d-47fc-aee7-51c49ef5ca6c",
   "metadata": {},
   "outputs": [],
   "source": [
    "import seaborn as sns\n",
    "df = sns.load_dataset('titanic')"
   ]
  },
  {
   "cell_type": "code",
   "execution_count": 17,
   "id": "86b409bc-70be-4175-9052-f306e2fbbbbd",
   "metadata": {},
   "outputs": [
    {
     "data": {
      "text/html": [
       "<div>\n",
       "<style scoped>\n",
       "    .dataframe tbody tr th:only-of-type {\n",
       "        vertical-align: middle;\n",
       "    }\n",
       "\n",
       "    .dataframe tbody tr th {\n",
       "        vertical-align: top;\n",
       "    }\n",
       "\n",
       "    .dataframe thead th {\n",
       "        text-align: right;\n",
       "    }\n",
       "</style>\n",
       "<table border=\"1\" class=\"dataframe\">\n",
       "  <thead>\n",
       "    <tr style=\"text-align: right;\">\n",
       "      <th></th>\n",
       "      <th>survived</th>\n",
       "      <th>pclass</th>\n",
       "      <th>sex</th>\n",
       "      <th>age</th>\n",
       "      <th>sibsp</th>\n",
       "      <th>parch</th>\n",
       "      <th>fare</th>\n",
       "      <th>embarked</th>\n",
       "      <th>class</th>\n",
       "      <th>who</th>\n",
       "      <th>adult_male</th>\n",
       "      <th>deck</th>\n",
       "      <th>embark_town</th>\n",
       "      <th>alive</th>\n",
       "      <th>alone</th>\n",
       "    </tr>\n",
       "  </thead>\n",
       "  <tbody>\n",
       "    <tr>\n",
       "      <th>0</th>\n",
       "      <td>0</td>\n",
       "      <td>3</td>\n",
       "      <td>male</td>\n",
       "      <td>22.0</td>\n",
       "      <td>1</td>\n",
       "      <td>0</td>\n",
       "      <td>7.2500</td>\n",
       "      <td>S</td>\n",
       "      <td>Third</td>\n",
       "      <td>man</td>\n",
       "      <td>True</td>\n",
       "      <td>NaN</td>\n",
       "      <td>Southampton</td>\n",
       "      <td>no</td>\n",
       "      <td>False</td>\n",
       "    </tr>\n",
       "    <tr>\n",
       "      <th>1</th>\n",
       "      <td>1</td>\n",
       "      <td>1</td>\n",
       "      <td>female</td>\n",
       "      <td>38.0</td>\n",
       "      <td>1</td>\n",
       "      <td>0</td>\n",
       "      <td>71.2833</td>\n",
       "      <td>C</td>\n",
       "      <td>First</td>\n",
       "      <td>woman</td>\n",
       "      <td>False</td>\n",
       "      <td>C</td>\n",
       "      <td>Cherbourg</td>\n",
       "      <td>yes</td>\n",
       "      <td>False</td>\n",
       "    </tr>\n",
       "    <tr>\n",
       "      <th>2</th>\n",
       "      <td>1</td>\n",
       "      <td>3</td>\n",
       "      <td>female</td>\n",
       "      <td>26.0</td>\n",
       "      <td>0</td>\n",
       "      <td>0</td>\n",
       "      <td>7.9250</td>\n",
       "      <td>S</td>\n",
       "      <td>Third</td>\n",
       "      <td>woman</td>\n",
       "      <td>False</td>\n",
       "      <td>NaN</td>\n",
       "      <td>Southampton</td>\n",
       "      <td>yes</td>\n",
       "      <td>True</td>\n",
       "    </tr>\n",
       "    <tr>\n",
       "      <th>3</th>\n",
       "      <td>1</td>\n",
       "      <td>1</td>\n",
       "      <td>female</td>\n",
       "      <td>35.0</td>\n",
       "      <td>1</td>\n",
       "      <td>0</td>\n",
       "      <td>53.1000</td>\n",
       "      <td>S</td>\n",
       "      <td>First</td>\n",
       "      <td>woman</td>\n",
       "      <td>False</td>\n",
       "      <td>C</td>\n",
       "      <td>Southampton</td>\n",
       "      <td>yes</td>\n",
       "      <td>False</td>\n",
       "    </tr>\n",
       "    <tr>\n",
       "      <th>4</th>\n",
       "      <td>0</td>\n",
       "      <td>3</td>\n",
       "      <td>male</td>\n",
       "      <td>35.0</td>\n",
       "      <td>0</td>\n",
       "      <td>0</td>\n",
       "      <td>8.0500</td>\n",
       "      <td>S</td>\n",
       "      <td>Third</td>\n",
       "      <td>man</td>\n",
       "      <td>True</td>\n",
       "      <td>NaN</td>\n",
       "      <td>Southampton</td>\n",
       "      <td>no</td>\n",
       "      <td>True</td>\n",
       "    </tr>\n",
       "  </tbody>\n",
       "</table>\n",
       "</div>"
      ],
      "text/plain": [
       "   survived  pclass     sex   age  sibsp  parch     fare embarked  class  \\\n",
       "0         0       3    male  22.0      1      0   7.2500        S  Third   \n",
       "1         1       1  female  38.0      1      0  71.2833        C  First   \n",
       "2         1       3  female  26.0      0      0   7.9250        S  Third   \n",
       "3         1       1  female  35.0      1      0  53.1000        S  First   \n",
       "4         0       3    male  35.0      0      0   8.0500        S  Third   \n",
       "\n",
       "     who  adult_male deck  embark_town alive  alone  \n",
       "0    man        True  NaN  Southampton    no  False  \n",
       "1  woman       False    C    Cherbourg   yes  False  \n",
       "2  woman       False  NaN  Southampton   yes   True  \n",
       "3  woman       False    C  Southampton   yes  False  \n",
       "4    man        True  NaN  Southampton    no   True  "
      ]
     },
     "execution_count": 17,
     "metadata": {},
     "output_type": "execute_result"
    }
   ],
   "source": [
    "df.head()"
   ]
  },
  {
   "cell_type": "code",
   "execution_count": 19,
   "id": "52b6d782-b5cd-4dbd-a808-d429707da4a2",
   "metadata": {},
   "outputs": [
    {
     "data": {
      "application/vnd.jupyter.widget-view+json": {
       "model_id": "c9a5b0bea9d3460aa4bf033db40b76ad",
       "version_major": 2,
       "version_minor": 0
      },
      "text/plain": [
       "                                             |                                             | [  0%]   00:00 ->…"
      ]
     },
     "metadata": {},
     "output_type": "display_data"
    }
   ],
   "source": [
    "# Analyze the dataset\n",
    "report = sv.analyze(df)\n"
   ]
  },
  {
   "cell_type": "code",
   "execution_count": 21,
   "id": "4afb981c-bf9c-4963-843e-ff96178a321b",
   "metadata": {},
   "outputs": [
    {
     "name": "stdout",
     "output_type": "stream",
     "text": [
      "Report titanic_sweetviz_report.html was generated! NOTEBOOK/COLAB USERS: the web browser MAY not pop up, regardless, the report IS saved in your notebook/colab files.\n"
     ]
    }
   ],
   "source": [
    "# Save and show report\n",
    "report.show_html(\"titanic_sweetviz_report.html\")"
   ]
  },
  {
   "cell_type": "code",
   "execution_count": null,
   "id": "11e19933-0d57-4aee-8663-00d9f0e49ae2",
   "metadata": {},
   "outputs": [],
   "source": []
  }
 ],
 "metadata": {
  "kernelspec": {
   "display_name": "Python [conda env:base] *",
   "language": "python",
   "name": "conda-base-py"
  },
  "language_info": {
   "codemirror_mode": {
    "name": "ipython",
    "version": 3
   },
   "file_extension": ".py",
   "mimetype": "text/x-python",
   "name": "python",
   "nbconvert_exporter": "python",
   "pygments_lexer": "ipython3",
   "version": "3.12.7"
  }
 },
 "nbformat": 4,
 "nbformat_minor": 5
}
